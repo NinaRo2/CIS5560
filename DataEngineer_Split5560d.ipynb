{
 "cells": [
  {
   "cell_type": "code",
   "execution_count": 7,
   "metadata": {},
   "outputs": [],
   "source": [
    "import pandas as pd\n",
    "import numpy as np\n",
    "#import pandasql\n",
    "import seaborn as sns\n",
    "import matplotlib.pyplot as plt"
   ]
  },
  {
   "cell_type": "code",
   "execution_count": 17,
   "metadata": {},
   "outputs": [],
   "source": [
    "#df = pd.read_csv('trips.csv' , usecols = ['Trip ID', 'Trip Start Timestamp', 'Trip End Timestamp', 'Trip Seconds', 'Trip Miles', 'Pickup Community Area'])\n"
   ]
  },
  {
   "cell_type": "code",
   "execution_count": 26,
   "metadata": {},
   "outputs": [
    {
     "name": "stdout",
     "output_type": "stream",
     "text": [
      "The dataset has 1048575 rows and 14 columns\n"
     ]
    },
    {
     "data": {
      "text/plain": [
       "float64    9\n",
       "object     3\n",
       "int64      2\n",
       "dtype: int64"
      ]
     },
     "execution_count": 26,
     "metadata": {},
     "output_type": "execute_result"
    }
   ],
   "source": [
    "df = pd.read_csv('trips_scaled.csv')\n",
    "print(\"The dataset has {} rows and {} columns\".format(df.shape[0], df.shape[1]))\n",
    "pd.options.display.float_format = '{:.0f}'.format\n",
    "df.head()\n",
    "df.dtypes.value_counts()"
   ]
  },
  {
   "cell_type": "code",
   "execution_count": 21,
   "metadata": {},
   "outputs": [],
   "source": [
    "#df.columns = df.columns.str.replace(' ', '')"
   ]
  },
  {
   "cell_type": "code",
   "execution_count": 27,
   "metadata": {},
   "outputs": [
    {
     "name": "stdout",
     "output_type": "stream",
     "text": [
      "<class 'pandas.core.frame.DataFrame'>\n",
      "RangeIndex: 1048575 entries, 0 to 1048574\n",
      "Data columns (total 14 columns):\n",
      " #   Column                    Non-Null Count    Dtype  \n",
      "---  ------                    --------------    -----  \n",
      " 0   TripID                    1048575 non-null  object \n",
      " 1   TripStartTimestamp        1048575 non-null  object \n",
      " 2   TripEndTimestamp          1048575 non-null  object \n",
      " 3   TripSeconds               1048575 non-null  int64  \n",
      " 4   TripMiles                 1048575 non-null  float64\n",
      " 5   PickupCommunityArea       979290 non-null   float64\n",
      " 6   DropoffCommunityArea      968574 non-null   float64\n",
      " 7   Fare                      1048575 non-null  float64\n",
      " 8   PickupCentroidLatitude    980402 non-null   float64\n",
      " 9   PickupCentroidLongitude   980402 non-null   float64\n",
      " 10  DropoffCentroidLatitude   969672 non-null   float64\n",
      " 11  DropoffCentroidLongitude  969672 non-null   float64\n",
      " 12  AvgCostMile               1048280 non-null  float64\n",
      " 13  DayofWeek                 1048575 non-null  int64  \n",
      "dtypes: float64(9), int64(2), object(3)\n",
      "memory usage: 112.0+ MB\n"
     ]
    }
   ],
   "source": [
    "df.info()"
   ]
  },
  {
   "cell_type": "code",
   "execution_count": 28,
   "metadata": {},
   "outputs": [
    {
     "data": {
      "text/html": [
       "<div>\n",
       "<style scoped>\n",
       "    .dataframe tbody tr th:only-of-type {\n",
       "        vertical-align: middle;\n",
       "    }\n",
       "\n",
       "    .dataframe tbody tr th {\n",
       "        vertical-align: top;\n",
       "    }\n",
       "\n",
       "    .dataframe thead th {\n",
       "        text-align: right;\n",
       "    }\n",
       "</style>\n",
       "<table border=\"1\" class=\"dataframe\">\n",
       "  <thead>\n",
       "    <tr style=\"text-align: right;\">\n",
       "      <th></th>\n",
       "      <th>TripSeconds</th>\n",
       "      <th>TripMiles</th>\n",
       "      <th>PickupCommunityArea</th>\n",
       "      <th>DropoffCommunityArea</th>\n",
       "      <th>Fare</th>\n",
       "      <th>PickupCentroidLatitude</th>\n",
       "      <th>PickupCentroidLongitude</th>\n",
       "      <th>DropoffCentroidLatitude</th>\n",
       "      <th>DropoffCentroidLongitude</th>\n",
       "      <th>AvgCostMile</th>\n",
       "      <th>DayofWeek</th>\n",
       "    </tr>\n",
       "  </thead>\n",
       "  <tbody>\n",
       "    <tr>\n",
       "      <th>count</th>\n",
       "      <td>1048575</td>\n",
       "      <td>1048575</td>\n",
       "      <td>979290</td>\n",
       "      <td>968574</td>\n",
       "      <td>1048575</td>\n",
       "      <td>980402</td>\n",
       "      <td>980402</td>\n",
       "      <td>969672</td>\n",
       "      <td>969672</td>\n",
       "      <td>1048280</td>\n",
       "      <td>1048575</td>\n",
       "    </tr>\n",
       "    <tr>\n",
       "      <th>mean</th>\n",
       "      <td>1143</td>\n",
       "      <td>7</td>\n",
       "      <td>26</td>\n",
       "      <td>26</td>\n",
       "      <td>12</td>\n",
       "      <td>42</td>\n",
       "      <td>-88</td>\n",
       "      <td>42</td>\n",
       "      <td>-88</td>\n",
       "      <td>3</td>\n",
       "      <td>5</td>\n",
       "    </tr>\n",
       "    <tr>\n",
       "      <th>std</th>\n",
       "      <td>820</td>\n",
       "      <td>7</td>\n",
       "      <td>21</td>\n",
       "      <td>21</td>\n",
       "      <td>10</td>\n",
       "      <td>0</td>\n",
       "      <td>0</td>\n",
       "      <td>0</td>\n",
       "      <td>0</td>\n",
       "      <td>2</td>\n",
       "      <td>2</td>\n",
       "    </tr>\n",
       "    <tr>\n",
       "      <th>min</th>\n",
       "      <td>0</td>\n",
       "      <td>0</td>\n",
       "      <td>1</td>\n",
       "      <td>1</td>\n",
       "      <td>0</td>\n",
       "      <td>42</td>\n",
       "      <td>-88</td>\n",
       "      <td>42</td>\n",
       "      <td>-88</td>\n",
       "      <td>0</td>\n",
       "      <td>1</td>\n",
       "    </tr>\n",
       "    <tr>\n",
       "      <th>25%</th>\n",
       "      <td>570</td>\n",
       "      <td>2</td>\n",
       "      <td>8</td>\n",
       "      <td>8</td>\n",
       "      <td>5</td>\n",
       "      <td>42</td>\n",
       "      <td>-88</td>\n",
       "      <td>42</td>\n",
       "      <td>-88</td>\n",
       "      <td>2</td>\n",
       "      <td>3</td>\n",
       "    </tr>\n",
       "    <tr>\n",
       "      <th>50%</th>\n",
       "      <td>915</td>\n",
       "      <td>4</td>\n",
       "      <td>24</td>\n",
       "      <td>24</td>\n",
       "      <td>10</td>\n",
       "      <td>42</td>\n",
       "      <td>-88</td>\n",
       "      <td>42</td>\n",
       "      <td>-88</td>\n",
       "      <td>2</td>\n",
       "      <td>5</td>\n",
       "    </tr>\n",
       "    <tr>\n",
       "      <th>75%</th>\n",
       "      <td>1479</td>\n",
       "      <td>8</td>\n",
       "      <td>32</td>\n",
       "      <td>32</td>\n",
       "      <td>15</td>\n",
       "      <td>42</td>\n",
       "      <td>-88</td>\n",
       "      <td>42</td>\n",
       "      <td>-88</td>\n",
       "      <td>3</td>\n",
       "      <td>7</td>\n",
       "    </tr>\n",
       "    <tr>\n",
       "      <th>max</th>\n",
       "      <td>33432</td>\n",
       "      <td>310</td>\n",
       "      <td>77</td>\n",
       "      <td>77</td>\n",
       "      <td>400</td>\n",
       "      <td>42</td>\n",
       "      <td>-88</td>\n",
       "      <td>42</td>\n",
       "      <td>-88</td>\n",
       "      <td>325</td>\n",
       "      <td>7</td>\n",
       "    </tr>\n",
       "  </tbody>\n",
       "</table>\n",
       "</div>"
      ],
      "text/plain": [
       "       TripSeconds  TripMiles  PickupCommunityArea  DropoffCommunityArea  \\\n",
       "count      1048575    1048575               979290                968574   \n",
       "mean          1143          7                   26                    26   \n",
       "std            820          7                   21                    21   \n",
       "min              0          0                    1                     1   \n",
       "25%            570          2                    8                     8   \n",
       "50%            915          4                   24                    24   \n",
       "75%           1479          8                   32                    32   \n",
       "max          33432        310                   77                    77   \n",
       "\n",
       "         Fare  PickupCentroidLatitude  PickupCentroidLongitude  \\\n",
       "count 1048575                  980402                   980402   \n",
       "mean       12                      42                      -88   \n",
       "std        10                       0                        0   \n",
       "min         0                      42                      -88   \n",
       "25%         5                      42                      -88   \n",
       "50%        10                      42                      -88   \n",
       "75%        15                      42                      -88   \n",
       "max       400                      42                      -88   \n",
       "\n",
       "       DropoffCentroidLatitude  DropoffCentroidLongitude  AvgCostMile  \\\n",
       "count                   969672                    969672      1048280   \n",
       "mean                        42                       -88            3   \n",
       "std                          0                         0            2   \n",
       "min                         42                       -88            0   \n",
       "25%                         42                       -88            2   \n",
       "50%                         42                       -88            2   \n",
       "75%                         42                       -88            3   \n",
       "max                         42                       -88          325   \n",
       "\n",
       "       DayofWeek  \n",
       "count    1048575  \n",
       "mean           5  \n",
       "std            2  \n",
       "min            1  \n",
       "25%            3  \n",
       "50%            5  \n",
       "75%            7  \n",
       "max            7  "
      ]
     },
     "execution_count": 28,
     "metadata": {},
     "output_type": "execute_result"
    }
   ],
   "source": [
    "pd.options.display.float_format = '{:.0f}'.format\n",
    "df.describe()"
   ]
  },
  {
   "cell_type": "code",
   "execution_count": 29,
   "metadata": {},
   "outputs": [
    {
     "data": {
      "text/plain": [
       "TripID                       True\n",
       "TripStartTimestamp           True\n",
       "TripEndTimestamp             True\n",
       "TripSeconds                 False\n",
       "TripMiles                   False\n",
       "PickupCommunityArea         False\n",
       "DropoffCommunityArea        False\n",
       "Fare                        False\n",
       "PickupCentroidLatitude      False\n",
       "PickupCentroidLongitude     False\n",
       "DropoffCentroidLatitude     False\n",
       "DropoffCentroidLongitude    False\n",
       "AvgCostMile                 False\n",
       "DayofWeek                   False\n",
       "dtype: bool"
      ]
     },
     "execution_count": 29,
     "metadata": {},
     "output_type": "execute_result"
    }
   ],
   "source": [
    "#Separate categorical and numerical columns in the dataframe\n",
    "df.dtypes == 'object'\n",
    "    "
   ]
  },
  {
   "cell_type": "code",
   "execution_count": 30,
   "metadata": {},
   "outputs": [
    {
     "name": "stdout",
     "output_type": "stream",
     "text": [
      "Index(['TripSeconds', 'TripMiles', 'PickupCommunityArea',\n",
      "       'DropoffCommunityArea', 'Fare', 'PickupCentroidLatitude',\n",
      "       'PickupCentroidLongitude', 'DropoffCentroidLatitude',\n",
      "       'DropoffCentroidLongitude', 'AvgCostMile', 'DayofWeek'],\n",
      "      dtype='object')\n",
      "Index(['TripID', 'TripStartTimestamp', 'TripEndTimestamp'], dtype='object')\n"
     ]
    }
   ],
   "source": [
    "num_vars = df.columns[df.dtypes != 'object']\n",
    "cat_vars = df.columns[df.dtypes == 'object']\n",
    "print(num_vars)\n",
    "print(cat_vars)"
   ]
  },
  {
   "cell_type": "code",
   "execution_count": 76,
   "metadata": {},
   "outputs": [
    {
     "data": {
      "text/plain": [
       "TripMiles                       30\n",
       "PickupCommunityArea         576065\n",
       "DropoffCommunityArea        650750\n",
       "Fare                             0\n",
       "PickupCentroidLatitude      566745\n",
       "PickupCentroidLongitude     566745\n",
       "DropoffCentroidLatitude     642129\n",
       "DropoffCentroidLongitude    642129\n",
       "dtype: int64"
      ]
     },
     "execution_count": 76,
     "metadata": {},
     "output_type": "execute_result"
    }
   ],
   "source": [
    "df[num_vars].isnull().sum()"
   ]
  },
  {
   "cell_type": "code",
   "execution_count": 77,
   "metadata": {},
   "outputs": [
    {
     "data": {
      "text/plain": [
       "TripMiles                  0\n",
       "PickupCommunityArea        0\n",
       "DropoffCommunityArea       0\n",
       "Fare                       0\n",
       "PickupCentroidLatitude     0\n",
       "PickupCentroidLongitude    0\n",
       "DropoffCentroidLatitude    0\n",
       "DropoffCentroidLongitude   0\n",
       "dtype: float64"
      ]
     },
     "execution_count": 77,
     "metadata": {},
     "output_type": "execute_result"
    }
   ],
   "source": [
    "df[num_vars][df == 0].sum(axis=0)"
   ]
  },
  {
   "cell_type": "code",
   "execution_count": 83,
   "metadata": {},
   "outputs": [
    {
     "data": {
      "text/plain": [
       "TripID                0\n",
       "TripStartTimestamp    0\n",
       "TripEndTimestamp      0\n",
       "TripSeconds           0\n",
       "dtype: int64"
      ]
     },
     "execution_count": 83,
     "metadata": {},
     "output_type": "execute_result"
    }
   ],
   "source": [
    "df[cat_vars].isnull().sum()"
   ]
  },
  {
   "cell_type": "code",
   "execution_count": 33,
   "metadata": {},
   "outputs": [],
   "source": [
    "df = pd.read_csv('trips_scaled.csv' , usecols = ['TripID', 'TripStartTimestamp', 'TripEndTimestamp', 'TripSeconds', 'TripMiles', 'Fare', 'PickupCommunityArea', 'DropoffCommunityArea', 'PickupCentroidLatitude', 'PickupCentroidLongitude', 'DropoffCentroidLatitude', 'DropoffCentroidLongitude'])\n",
    "#df.columns = df.columns.str.replace(' ', '')\n",
    "#df.head()\n",
    "#df_locations_clean = df_locations.dropna()\n",
    "#df_locations_clean = df_locations_clean.astype({'PickupCommunityArea':'int32','DropoffCommunityArea':'int32'})\n",
    "#df_locations_clean.dtypes"
   ]
  },
  {
   "cell_type": "code",
   "execution_count": 39,
   "metadata": {},
   "outputs": [],
   "source": [
    "#def label_pickup (row):\n",
    "#   if row ['PickupCommunityArea'] == 44:\n",
    "#        return 'Test'\n",
    "#df.apply (lambda row: label_pickup(row), axis=1)\n",
    "#df=df.replace(['PickupCommunityArea'].replace([\"76\"],value='OHare')"
   ]
  },
  {
   "cell_type": "code",
   "execution_count": 29,
   "metadata": {},
   "outputs": [
    {
     "data": {
      "text/html": [
       "<div>\n",
       "<style scoped>\n",
       "    .dataframe tbody tr th:only-of-type {\n",
       "        vertical-align: middle;\n",
       "    }\n",
       "\n",
       "    .dataframe tbody tr th {\n",
       "        vertical-align: top;\n",
       "    }\n",
       "\n",
       "    .dataframe thead th {\n",
       "        text-align: right;\n",
       "    }\n",
       "</style>\n",
       "<table border=\"1\" class=\"dataframe\">\n",
       "  <thead>\n",
       "    <tr style=\"text-align: right;\">\n",
       "      <th></th>\n",
       "      <th>TripID</th>\n",
       "      <th>TripStartTimestamp</th>\n",
       "      <th>TripEndTimestamp</th>\n",
       "      <th>TripSeconds</th>\n",
       "      <th>TripMiles</th>\n",
       "      <th>PickupCommunityArea</th>\n",
       "      <th>DropoffCommunityArea</th>\n",
       "      <th>Fare</th>\n",
       "      <th>PickupCentroidLatitude</th>\n",
       "      <th>PickupCentroidLongitude</th>\n",
       "      <th>DropoffCentroidLatitude</th>\n",
       "      <th>DropoffCentroidLongitude</th>\n",
       "      <th>AvgFareMile</th>\n",
       "    </tr>\n",
       "  </thead>\n",
       "  <tbody>\n",
       "    <tr>\n",
       "      <th>0</th>\n",
       "      <td>001310147fb02373d31c3a61a9d431f5c1a3bbc5</td>\n",
       "      <td>09/01/2019 12:00:00 AM</td>\n",
       "      <td>09/01/2019 12:15:00 AM</td>\n",
       "      <td>935</td>\n",
       "      <td>3</td>\n",
       "      <td>4</td>\n",
       "      <td>7</td>\n",
       "      <td>18</td>\n",
       "      <td>42</td>\n",
       "      <td>-88</td>\n",
       "      <td>42</td>\n",
       "      <td>-88</td>\n",
       "      <td>5</td>\n",
       "    </tr>\n",
       "    <tr>\n",
       "      <th>1</th>\n",
       "      <td>00228798b148a8b410a3bd78e5c766558254ae21</td>\n",
       "      <td>09/01/2019 12:00:00 AM</td>\n",
       "      <td>09/01/2019 12:15:00 AM</td>\n",
       "      <td>1,128</td>\n",
       "      <td>5</td>\n",
       "      <td>44</td>\n",
       "      <td>46</td>\n",
       "      <td>8</td>\n",
       "      <td>42</td>\n",
       "      <td>-88</td>\n",
       "      <td>42</td>\n",
       "      <td>-88</td>\n",
       "      <td>2</td>\n",
       "    </tr>\n",
       "    <tr>\n",
       "      <th>2</th>\n",
       "      <td>002a8d7170d7d84508b5a83cfc3be9ba2bd61a68</td>\n",
       "      <td>09/01/2019 12:00:00 AM</td>\n",
       "      <td>09/01/2019 12:15:00 AM</td>\n",
       "      <td>995</td>\n",
       "      <td>6</td>\n",
       "      <td>8</td>\n",
       "      <td>6</td>\n",
       "      <td>22</td>\n",
       "      <td>42</td>\n",
       "      <td>-88</td>\n",
       "      <td>42</td>\n",
       "      <td>-88</td>\n",
       "      <td>4</td>\n",
       "    </tr>\n",
       "    <tr>\n",
       "      <th>3</th>\n",
       "      <td>003bd5a48b6b238a97c376d96652fdbc7f866daa</td>\n",
       "      <td>09/01/2019 12:00:00 AM</td>\n",
       "      <td>09/01/2019 12:15:00 AM</td>\n",
       "      <td>1,147</td>\n",
       "      <td>9</td>\n",
       "      <td>32</td>\n",
       "      <td>4</td>\n",
       "      <td>28</td>\n",
       "      <td>42</td>\n",
       "      <td>-88</td>\n",
       "      <td>42</td>\n",
       "      <td>-88</td>\n",
       "      <td>3</td>\n",
       "    </tr>\n",
       "    <tr>\n",
       "      <th>4</th>\n",
       "      <td>005f27b6e77816b97a357e79daa60b6b8c03ee68</td>\n",
       "      <td>09/01/2019 12:00:00 AM</td>\n",
       "      <td>09/01/2019 12:00:00 AM</td>\n",
       "      <td>569</td>\n",
       "      <td>4</td>\n",
       "      <td>nan</td>\n",
       "      <td>6</td>\n",
       "      <td>8</td>\n",
       "      <td>nan</td>\n",
       "      <td>nan</td>\n",
       "      <td>42</td>\n",
       "      <td>-88</td>\n",
       "      <td>2</td>\n",
       "    </tr>\n",
       "    <tr>\n",
       "      <th>...</th>\n",
       "      <td>...</td>\n",
       "      <td>...</td>\n",
       "      <td>...</td>\n",
       "      <td>...</td>\n",
       "      <td>...</td>\n",
       "      <td>...</td>\n",
       "      <td>...</td>\n",
       "      <td>...</td>\n",
       "      <td>...</td>\n",
       "      <td>...</td>\n",
       "      <td>...</td>\n",
       "      <td>...</td>\n",
       "      <td>...</td>\n",
       "    </tr>\n",
       "    <tr>\n",
       "      <th>8675388</th>\n",
       "      <td>ff251de1fe6659568fc9e01007f70837b2393a90</td>\n",
       "      <td>09/30/2019 12:00:00 AM</td>\n",
       "      <td>09/30/2019 12:00:00 AM</td>\n",
       "      <td>638</td>\n",
       "      <td>2</td>\n",
       "      <td>28</td>\n",
       "      <td>32</td>\n",
       "      <td>10</td>\n",
       "      <td>42</td>\n",
       "      <td>-88</td>\n",
       "      <td>42</td>\n",
       "      <td>-88</td>\n",
       "      <td>4</td>\n",
       "    </tr>\n",
       "    <tr>\n",
       "      <th>8675389</th>\n",
       "      <td>ff43e10ba452ca9cabb0af65a19b080e1bc1f844</td>\n",
       "      <td>09/30/2019 12:00:00 AM</td>\n",
       "      <td>09/30/2019 12:00:00 AM</td>\n",
       "      <td>538</td>\n",
       "      <td>2</td>\n",
       "      <td>24</td>\n",
       "      <td>8</td>\n",
       "      <td>8</td>\n",
       "      <td>42</td>\n",
       "      <td>-88</td>\n",
       "      <td>42</td>\n",
       "      <td>-88</td>\n",
       "      <td>3</td>\n",
       "    </tr>\n",
       "    <tr>\n",
       "      <th>8675390</th>\n",
       "      <td>ff63e52c15a16fe2289ba8723812ae18df5a41ad</td>\n",
       "      <td>09/30/2019 12:00:00 AM</td>\n",
       "      <td>09/30/2019 12:15:00 AM</td>\n",
       "      <td>1,140</td>\n",
       "      <td>13</td>\n",
       "      <td>nan</td>\n",
       "      <td>22</td>\n",
       "      <td>18</td>\n",
       "      <td>nan</td>\n",
       "      <td>nan</td>\n",
       "      <td>42</td>\n",
       "      <td>-88</td>\n",
       "      <td>1</td>\n",
       "    </tr>\n",
       "    <tr>\n",
       "      <th>8675391</th>\n",
       "      <td>ff9e26fb3399546e37baf2c39872db9418be4679</td>\n",
       "      <td>09/30/2019 12:00:00 AM</td>\n",
       "      <td>09/30/2019 12:15:00 AM</td>\n",
       "      <td>912</td>\n",
       "      <td>2</td>\n",
       "      <td>71</td>\n",
       "      <td>69</td>\n",
       "      <td>8</td>\n",
       "      <td>42</td>\n",
       "      <td>-88</td>\n",
       "      <td>42</td>\n",
       "      <td>-88</td>\n",
       "      <td>3</td>\n",
       "    </tr>\n",
       "    <tr>\n",
       "      <th>8675392</th>\n",
       "      <td>ffe0809bae2d94428d0b2de4fd1c0db49f187ab0</td>\n",
       "      <td>09/30/2019 12:00:00 AM</td>\n",
       "      <td>09/30/2019 12:15:00 AM</td>\n",
       "      <td>984</td>\n",
       "      <td>1</td>\n",
       "      <td>16</td>\n",
       "      <td>16</td>\n",
       "      <td>8</td>\n",
       "      <td>42</td>\n",
       "      <td>-88</td>\n",
       "      <td>42</td>\n",
       "      <td>-88</td>\n",
       "      <td>9</td>\n",
       "    </tr>\n",
       "  </tbody>\n",
       "</table>\n",
       "<p>8675393 rows × 13 columns</p>\n",
       "</div>"
      ],
      "text/plain": [
       "                                           TripID      TripStartTimestamp  \\\n",
       "0        001310147fb02373d31c3a61a9d431f5c1a3bbc5  09/01/2019 12:00:00 AM   \n",
       "1        00228798b148a8b410a3bd78e5c766558254ae21  09/01/2019 12:00:00 AM   \n",
       "2        002a8d7170d7d84508b5a83cfc3be9ba2bd61a68  09/01/2019 12:00:00 AM   \n",
       "3        003bd5a48b6b238a97c376d96652fdbc7f866daa  09/01/2019 12:00:00 AM   \n",
       "4        005f27b6e77816b97a357e79daa60b6b8c03ee68  09/01/2019 12:00:00 AM   \n",
       "...                                           ...                     ...   \n",
       "8675388  ff251de1fe6659568fc9e01007f70837b2393a90  09/30/2019 12:00:00 AM   \n",
       "8675389  ff43e10ba452ca9cabb0af65a19b080e1bc1f844  09/30/2019 12:00:00 AM   \n",
       "8675390  ff63e52c15a16fe2289ba8723812ae18df5a41ad  09/30/2019 12:00:00 AM   \n",
       "8675391  ff9e26fb3399546e37baf2c39872db9418be4679  09/30/2019 12:00:00 AM   \n",
       "8675392  ffe0809bae2d94428d0b2de4fd1c0db49f187ab0  09/30/2019 12:00:00 AM   \n",
       "\n",
       "               TripEndTimestamp TripSeconds  TripMiles  PickupCommunityArea  \\\n",
       "0        09/01/2019 12:15:00 AM         935          3                    4   \n",
       "1        09/01/2019 12:15:00 AM       1,128          5                   44   \n",
       "2        09/01/2019 12:15:00 AM         995          6                    8   \n",
       "3        09/01/2019 12:15:00 AM       1,147          9                   32   \n",
       "4        09/01/2019 12:00:00 AM         569          4                  nan   \n",
       "...                         ...         ...        ...                  ...   \n",
       "8675388  09/30/2019 12:00:00 AM         638          2                   28   \n",
       "8675389  09/30/2019 12:00:00 AM         538          2                   24   \n",
       "8675390  09/30/2019 12:15:00 AM       1,140         13                  nan   \n",
       "8675391  09/30/2019 12:15:00 AM         912          2                   71   \n",
       "8675392  09/30/2019 12:15:00 AM         984          1                   16   \n",
       "\n",
       "         DropoffCommunityArea  Fare  PickupCentroidLatitude  \\\n",
       "0                           7    18                      42   \n",
       "1                          46     8                      42   \n",
       "2                           6    22                      42   \n",
       "3                           4    28                      42   \n",
       "4                           6     8                     nan   \n",
       "...                       ...   ...                     ...   \n",
       "8675388                    32    10                      42   \n",
       "8675389                     8     8                      42   \n",
       "8675390                    22    18                     nan   \n",
       "8675391                    69     8                      42   \n",
       "8675392                    16     8                      42   \n",
       "\n",
       "         PickupCentroidLongitude  DropoffCentroidLatitude  \\\n",
       "0                            -88                       42   \n",
       "1                            -88                       42   \n",
       "2                            -88                       42   \n",
       "3                            -88                       42   \n",
       "4                            nan                       42   \n",
       "...                          ...                      ...   \n",
       "8675388                      -88                       42   \n",
       "8675389                      -88                       42   \n",
       "8675390                      nan                       42   \n",
       "8675391                      -88                       42   \n",
       "8675392                      -88                       42   \n",
       "\n",
       "         DropoffCentroidLongitude  AvgFareMile  \n",
       "0                             -88            5  \n",
       "1                             -88            2  \n",
       "2                             -88            4  \n",
       "3                             -88            3  \n",
       "4                             -88            2  \n",
       "...                           ...          ...  \n",
       "8675388                       -88            4  \n",
       "8675389                       -88            3  \n",
       "8675390                       -88            1  \n",
       "8675391                       -88            3  \n",
       "8675392                       -88            9  \n",
       "\n",
       "[8675393 rows x 13 columns]"
      ]
     },
     "execution_count": 29,
     "metadata": {},
     "output_type": "execute_result"
    }
   ],
   "source": [
    "df.assign(AvgFareMile=lambda x: x.Fare / x.TripMiles)\n",
    "\n",
    "#df['AvgFareMile'] = df.apply(lambda x: (x.Fare / x.TripMiles))\n",
    "\n",
    " #= df.apply(lambda row: row.Cost - (row.Cost * 0.1), axis = 1)\n"
   ]
  },
  {
   "cell_type": "code",
   "execution_count": 20,
   "metadata": {},
   "outputs": [],
   "source": [
    "from csv import writer\n",
    "from csv import reader\n",
    "# Sample df.to_csv (r'C:\\Users\\Ron\\Desktop\\export_dataframe.csv', index = False, header=True)\n",
    "df.to_csv (r'C:\\Users\\my63valiant\\Documents\\Python Scripts\\Code\\trips_new_column.csv', index = False, header=True)"
   ]
  },
  {
   "cell_type": "code",
   "execution_count": 45,
   "metadata": {},
   "outputs": [
    {
     "data": {
      "text/plain": [
       "(0.0, 20.0)"
      ]
     },
     "execution_count": 45,
     "metadata": {},
     "output_type": "execute_result"
    },
    {
     "data": {
      "image/png": "[encoded data removed]",
      "text/plain": [
       "<Figure size 432x288 with 1 Axes>"
      ]
     },
     "metadata": {
      "needs_background": "light"
     },
     "output_type": "display_data"
    }
   ],
   "source": [
    "distance_box_and_whisker = df.boxplot(column='TripMiles')\n",
    "distance_box_and_whisker.set_ylim(0, 20)\n"
   ]
  },
  {
   "cell_type": "code",
   "execution_count": null,
   "metadata": {},
   "outputs": [],
   "source": [
    "areas = requests.get('https://data.cityofchicago.org/resource/igwz-8jzy.json').json()\n",
    "areas_df = pd.DataFrame(areas)[['community','area_num_1']]\n",
    "areas_df.community = areas_df.community.str.title()\n",
    "areas_dict = dict(zip(areas_df.area_num_1, areas_df.community))"
   ]
  },
  {
   "cell_type": "code",
   "execution_count": null,
   "metadata": {},
   "outputs": [],
   "source": [
    "df_locations_clean['pickup_area'] = df_locations_clean['pickup_community_area'].map(lambda x: areas_dict[str(x)])\n",
    "df_locations_clean['dropoff_area'] = df_locations_clean['dropoff_community_area'].map(lambda x: areas_dict[str(x)])\n",
    "df_locations_clean"
   ]
  },
  {
   "cell_type": "code",
   "execution_count": null,
   "metadata": {},
   "outputs": [],
   "source": [
    "#df[\"PickupAreaName\"] = df[\"PickupCommunityArea\"].apply(pickup)"
   ]
  },
  {
   "cell_type": "code",
   "execution_count": 34,
   "metadata": {},
   "outputs": [],
   "source": [
    "df['TripStartTimestamp'] = pd.to_datetime(df['TripStartTimestamp'])\n",
    "# calculate mask\n",
    "mask = df['TripStartTimestamp'].between('2019-09-29', '2019-10-01')\n",
    "# output masked dataframes\n",
    "df[mask].to_csv('trip_scaled_days8.csv', index=False)\n",
    "df[mask].to_csv('trip_scaled_days9.csv', index=False)"
   ]
  },
  {
   "cell_type": "code",
   "execution_count": 40,
   "metadata": {},
   "outputs": [],
   "source": [
    "#df.to_csv('trips_edit7.csv')"
   ]
  },
  {
   "cell_type": "code",
   "execution_count": null,
   "metadata": {},
   "outputs": [],
   "source": []
  },
  {
   "cell_type": "code",
   "execution_count": 28,
   "metadata": {},
   "outputs": [
    {
     "ename": "NameError",
     "evalue": "name 'row' is not defined",
     "output_type": "error",
     "traceback": [
      "\u001b[1;31m---------------------------------------------------------------------------\u001b[0m",
      "\u001b[1;31mNameError\u001b[0m                                 Traceback (most recent call last)",
      "\u001b[1;32m<ipython-input-28-bfb26c5bb39e>\u001b[0m in \u001b[0;36m<module>\u001b[1;34m\u001b[0m\n\u001b[0;32m      2\u001b[0m \u001b[1;31m#df.assign(AvgFareMile=lambda x: x.Fare / x.TripMiles)\u001b[0m\u001b[1;33m\u001b[0m\u001b[1;33m\u001b[0m\u001b[1;33m\u001b[0m\u001b[0m\n\u001b[0;32m      3\u001b[0m \u001b[1;31m#add_column_in_csv('input.csv', 'output_3.csv', lambda row, line_num: row.append(row[0] + '__' + row[1]))\u001b[0m\u001b[1;33m\u001b[0m\u001b[1;33m\u001b[0m\u001b[1;33m\u001b[0m\u001b[0m\n\u001b[1;32m----> 4\u001b[1;33m \u001b[0mrow\u001b[0m\u001b[1;33m.\u001b[0m\u001b[0mapend\u001b[0m\u001b[1;33m(\u001b[0m\u001b[1;34m'input.csv'\u001b[0m\u001b[1;33m,\u001b[0m \u001b[1;34m'output_3.csv'\u001b[0m\u001b[1;33m,\u001b[0m \u001b[0massign\u001b[0m\u001b[1;33m(\u001b[0m\u001b[0mAvgFareMile\u001b[0m\u001b[1;33m=\u001b[0m\u001b[1;32mlambda\u001b[0m \u001b[0mx\u001b[0m\u001b[1;33m:\u001b[0m \u001b[0mx\u001b[0m\u001b[1;33m.\u001b[0m\u001b[0mFare\u001b[0m \u001b[1;33m/\u001b[0m \u001b[0mx\u001b[0m\u001b[1;33m.\u001b[0m\u001b[0mTripMiles\u001b[0m\u001b[1;33m)\u001b[0m\u001b[1;33m)\u001b[0m\u001b[1;33m\u001b[0m\u001b[1;33m\u001b[0m\u001b[0m\n\u001b[0m",
      "\u001b[1;31mNameError\u001b[0m: name 'row' is not defined"
     ]
    }
   ],
   "source": [
    "# Add column to csv by merging contents from first & second column of csv\n",
    "#df.assign(AvgFareMile=lambda x: x.Fare / x.TripMiles)\n",
    "#add_column_in_csv('input.csv', 'output_3.csv', lambda row, line_num: row.append(row[0] + '__' + row[1]))\n",
    "#df.apend('input.csv', 'output_3.csv', assign(AvgFareMile=lambda x: x.Fare / x.TripMiles))"
   ]
  },
  {
   "cell_type": "code",
   "execution_count": null,
   "metadata": {},
   "outputs": [],
   "source": []
  }
 ],
 "metadata": {
  "kernelspec": {
   "display_name": "Python 3",
   "language": "python",
   "name": "python3"
  },
  "language_info": {
   "codemirror_mode": {
    "name": "ipython",
    "version": 3
   },
   "file_extension": ".py",
   "mimetype": "text/x-python",
   "name": "python",
   "nbconvert_exporter": "python",
   "pygments_lexer": "ipython3",
   "version": "3.8.5"
  }
 },
 "nbformat": 4,
 "nbformat_minor": 4
}
