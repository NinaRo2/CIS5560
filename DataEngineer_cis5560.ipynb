{
 "cells": [
  {
   "cell_type": "code",
   "execution_count": 7,
   "metadata": {},
   "outputs": [],
   "source": [
    "import pandas as pd\n",
    "import numpy as np\n",
    "#import pandasql\n",
    "import seaborn as sns\n",
    "import matplotlib.pyplot as plt"
   ]
  },
  {
   "cell_type": "code",
   "execution_count": 17,
   "metadata": {},
   "outputs": [],
   "source": [
    "#df = pd.read_csv('trips.csv' , usecols = ['Trip ID', 'Trip Start Timestamp', 'Trip End Timestamp', 'Trip Seconds', 'Trip Miles', 'Pickup Community Area'])\n"
   ]
  },
  {
   "cell_type": "code",
   "execution_count": 16,
   "metadata": {},
   "outputs": [
    {
     "name": "stdout",
     "output_type": "stream",
     "text": [
      "The dataset has 1048575 rows and 14 columns\n"
     ]
    },
    {
     "data": {
      "text/plain": [
       "float64    9\n",
       "object     3\n",
       "int64      2\n",
       "dtype: int64"
      ]
     },
     "execution_count": 16,
     "metadata": {},
     "output_type": "execute_result"
    }
   ],
   "source": [
    "df = pd.read_csv('trips_scaled.csv')\n",
    "print(\"The dataset has {} rows and {} columns\".format(df.shape[0], df.shape[1]))\n",
    "pd.options.display.float_format = '{:.0f}'.format\n",
    "df.head()\n",
    "df.dtypes.value_counts()"
   ]
  },
  {
   "cell_type": "code",
   "execution_count": 21,
   "metadata": {},
   "outputs": [],
   "source": [
    "df.columns = df.columns.str.replace(' ', '')"
   ]
  },
  {
   "cell_type": "code",
   "execution_count": 12,
   "metadata": {},
   "outputs": [
    {
     "name": "stdout",
     "output_type": "stream",
     "text": [
      "<class 'pandas.core.frame.DataFrame'>\n",
      "RangeIndex: 8675393 entries, 0 to 8675392\n",
      "Data columns (total 21 columns):\n",
      " #   Column                      Dtype  \n",
      "---  ------                      -----  \n",
      " 0   Trip ID                     object \n",
      " 1   Trip Start Timestamp        object \n",
      " 2   Trip End Timestamp          object \n",
      " 3   Trip Seconds                object \n",
      " 4   Trip Miles                  float64\n",
      " 5   Pickup Census Tract         float64\n",
      " 6   Dropoff Census Tract        float64\n",
      " 7   Pickup Community Area       float64\n",
      " 8   Dropoff Community Area      float64\n",
      " 9   Fare                        float64\n",
      " 10  Tip                         int64  \n",
      " 11  Additional Charges          float64\n",
      " 12  Trip Total                  float64\n",
      " 13  Shared Trip Authorized      bool   \n",
      " 14  Trips Pooled                int64  \n",
      " 15  Pickup Centroid Latitude    float64\n",
      " 16  Pickup Centroid Longitude   float64\n",
      " 17  Pickup Centroid Location    object \n",
      " 18  Dropoff Centroid Latitude   float64\n",
      " 19  Dropoff Centroid Longitude  float64\n",
      " 20  Dropoff Centroid Location   object \n",
      "dtypes: bool(1), float64(12), int64(2), object(6)\n",
      "memory usage: 1.3+ GB\n"
     ]
    }
   ],
   "source": [
    "df.info()"
   ]
  },
  {
   "cell_type": "code",
   "execution_count": 3,
   "metadata": {},
   "outputs": [
    {
     "data": {
      "text/html": [
       "<div>\n",
       "<style scoped>\n",
       "    .dataframe tbody tr th:only-of-type {\n",
       "        vertical-align: middle;\n",
       "    }\n",
       "\n",
       "    .dataframe tbody tr th {\n",
       "        vertical-align: top;\n",
       "    }\n",
       "\n",
       "    .dataframe thead th {\n",
       "        text-align: right;\n",
       "    }\n",
       "</style>\n",
       "<table border=\"1\" class=\"dataframe\">\n",
       "  <thead>\n",
       "    <tr style=\"text-align: right;\">\n",
       "      <th></th>\n",
       "      <th>TripSeconds</th>\n",
       "      <th>TripMiles</th>\n",
       "      <th>PickupCommunityArea</th>\n",
       "      <th>DropoffCommunityArea</th>\n",
       "      <th>Fare</th>\n",
       "      <th>PickupCentroidLatitude</th>\n",
       "      <th>PickupCentroidLongitude</th>\n",
       "      <th>DropoffCentroidLatitude</th>\n",
       "      <th>DropoffCentroidLongitude</th>\n",
       "      <th>AvgCostMile</th>\n",
       "      <th>DayofWeek</th>\n",
       "    </tr>\n",
       "  </thead>\n",
       "  <tbody>\n",
       "    <tr>\n",
       "      <th>count</th>\n",
       "      <td>2444352</td>\n",
       "      <td>2444352</td>\n",
       "      <td>2280693</td>\n",
       "      <td>2257251</td>\n",
       "      <td>2444352</td>\n",
       "      <td>2283286</td>\n",
       "      <td>2283286</td>\n",
       "      <td>2259822</td>\n",
       "      <td>2259822</td>\n",
       "      <td>2443698</td>\n",
       "      <td>2444352</td>\n",
       "    </tr>\n",
       "    <tr>\n",
       "      <th>mean</th>\n",
       "      <td>1150</td>\n",
       "      <td>7</td>\n",
       "      <td>26</td>\n",
       "      <td>26</td>\n",
       "      <td>12</td>\n",
       "      <td>42</td>\n",
       "      <td>-88</td>\n",
       "      <td>42</td>\n",
       "      <td>-88</td>\n",
       "      <td>3</td>\n",
       "      <td>5</td>\n",
       "    </tr>\n",
       "    <tr>\n",
       "      <th>std</th>\n",
       "      <td>825</td>\n",
       "      <td>7</td>\n",
       "      <td>21</td>\n",
       "      <td>21</td>\n",
       "      <td>10</td>\n",
       "      <td>0</td>\n",
       "      <td>0</td>\n",
       "      <td>0</td>\n",
       "      <td>0</td>\n",
       "      <td>2</td>\n",
       "      <td>2</td>\n",
       "    </tr>\n",
       "    <tr>\n",
       "      <th>min</th>\n",
       "      <td>0</td>\n",
       "      <td>0</td>\n",
       "      <td>1</td>\n",
       "      <td>1</td>\n",
       "      <td>0</td>\n",
       "      <td>42</td>\n",
       "      <td>-88</td>\n",
       "      <td>42</td>\n",
       "      <td>-88</td>\n",
       "      <td>0</td>\n",
       "      <td>1</td>\n",
       "    </tr>\n",
       "    <tr>\n",
       "      <th>25%</th>\n",
       "      <td>572</td>\n",
       "      <td>2</td>\n",
       "      <td>8</td>\n",
       "      <td>8</td>\n",
       "      <td>5</td>\n",
       "      <td>42</td>\n",
       "      <td>-88</td>\n",
       "      <td>42</td>\n",
       "      <td>-88</td>\n",
       "      <td>2</td>\n",
       "      <td>3</td>\n",
       "    </tr>\n",
       "    <tr>\n",
       "      <th>50%</th>\n",
       "      <td>920</td>\n",
       "      <td>4</td>\n",
       "      <td>24</td>\n",
       "      <td>24</td>\n",
       "      <td>10</td>\n",
       "      <td>42</td>\n",
       "      <td>-88</td>\n",
       "      <td>42</td>\n",
       "      <td>-88</td>\n",
       "      <td>2</td>\n",
       "      <td>5</td>\n",
       "    </tr>\n",
       "    <tr>\n",
       "      <th>75%</th>\n",
       "      <td>1490</td>\n",
       "      <td>8</td>\n",
       "      <td>32</td>\n",
       "      <td>32</td>\n",
       "      <td>15</td>\n",
       "      <td>42</td>\n",
       "      <td>-88</td>\n",
       "      <td>42</td>\n",
       "      <td>-88</td>\n",
       "      <td>3</td>\n",
       "      <td>6</td>\n",
       "    </tr>\n",
       "    <tr>\n",
       "      <th>max</th>\n",
       "      <td>61320</td>\n",
       "      <td>313</td>\n",
       "      <td>77</td>\n",
       "      <td>77</td>\n",
       "      <td>440</td>\n",
       "      <td>42</td>\n",
       "      <td>-88</td>\n",
       "      <td>42</td>\n",
       "      <td>-88</td>\n",
       "      <td>325</td>\n",
       "      <td>7</td>\n",
       "    </tr>\n",
       "  </tbody>\n",
       "</table>\n",
       "</div>"
      ],
      "text/plain": [
       "       TripSeconds  TripMiles  PickupCommunityArea  DropoffCommunityArea  \\\n",
       "count      2444352    2444352              2280693               2257251   \n",
       "mean          1150          7                   26                    26   \n",
       "std            825          7                   21                    21   \n",
       "min              0          0                    1                     1   \n",
       "25%            572          2                    8                     8   \n",
       "50%            920          4                   24                    24   \n",
       "75%           1490          8                   32                    32   \n",
       "max          61320        313                   77                    77   \n",
       "\n",
       "         Fare  PickupCentroidLatitude  PickupCentroidLongitude  \\\n",
       "count 2444352                 2283286                  2283286   \n",
       "mean       12                      42                      -88   \n",
       "std        10                       0                        0   \n",
       "min         0                      42                      -88   \n",
       "25%         5                      42                      -88   \n",
       "50%        10                      42                      -88   \n",
       "75%        15                      42                      -88   \n",
       "max       440                      42                      -88   \n",
       "\n",
       "       DropoffCentroidLatitude  DropoffCentroidLongitude  AvgCostMile  \\\n",
       "count                  2259822                   2259822      2443698   \n",
       "mean                        42                       -88            3   \n",
       "std                          0                         0            2   \n",
       "min                         42                       -88            0   \n",
       "25%                         42                       -88            2   \n",
       "50%                         42                       -88            2   \n",
       "75%                         42                       -88            3   \n",
       "max                         42                       -88          325   \n",
       "\n",
       "       DayofWeek  \n",
       "count    2444352  \n",
       "mean           5  \n",
       "std            2  \n",
       "min            1  \n",
       "25%            3  \n",
       "50%            5  \n",
       "75%            6  \n",
       "max            7  "
      ]
     },
     "execution_count": 3,
     "metadata": {},
     "output_type": "execute_result"
    }
   ],
   "source": [
    "pd.options.display.float_format = '{:.0f}'.format\n",
    "df.describe()"
   ]
  },
  {
   "cell_type": "code",
   "execution_count": 74,
   "metadata": {},
   "outputs": [
    {
     "data": {
      "text/plain": [
       "TripID                       True\n",
       "TripStartTimestamp           True\n",
       "TripEndTimestamp             True\n",
       "TripSeconds                  True\n",
       "TripMiles                   False\n",
       "PickupCommunityArea         False\n",
       "DropoffCommunityArea        False\n",
       "Fare                        False\n",
       "PickupCentroidLatitude      False\n",
       "PickupCentroidLongitude     False\n",
       "DropoffCentroidLatitude     False\n",
       "DropoffCentroidLongitude    False\n",
       "dtype: bool"
      ]
     },
     "execution_count": 74,
     "metadata": {},
     "output_type": "execute_result"
    }
   ],
   "source": [
    "#Separate categorical and numerical columns in the dataframe\n",
    "df.dtypes == 'object'\n",
    "    "
   ]
  },
  {
   "cell_type": "code",
   "execution_count": 75,
   "metadata": {},
   "outputs": [
    {
     "name": "stdout",
     "output_type": "stream",
     "text": [
      "Index(['TripMiles', 'PickupCommunityArea', 'DropoffCommunityArea', 'Fare',\n",
      "       'PickupCentroidLatitude', 'PickupCentroidLongitude',\n",
      "       'DropoffCentroidLatitude', 'DropoffCentroidLongitude'],\n",
      "      dtype='object')\n",
      "Index(['TripID', 'TripStartTimestamp', 'TripEndTimestamp', 'TripSeconds'], dtype='object')\n"
     ]
    }
   ],
   "source": [
    "num_vars = df.columns[df.dtypes != 'object']\n",
    "cat_vars = df.columns[df.dtypes == 'object']\n",
    "print(num_vars)\n",
    "print(cat_vars)"
   ]
  },
  {
   "cell_type": "code",
   "execution_count": 76,
   "metadata": {},
   "outputs": [
    {
     "data": {
      "text/plain": [
       "TripMiles                       30\n",
       "PickupCommunityArea         576065\n",
       "DropoffCommunityArea        650750\n",
       "Fare                             0\n",
       "PickupCentroidLatitude      566745\n",
       "PickupCentroidLongitude     566745\n",
       "DropoffCentroidLatitude     642129\n",
       "DropoffCentroidLongitude    642129\n",
       "dtype: int64"
      ]
     },
     "execution_count": 76,
     "metadata": {},
     "output_type": "execute_result"
    }
   ],
   "source": [
    "df[num_vars].isnull().sum()"
   ]
  },
  {
   "cell_type": "code",
   "execution_count": 77,
   "metadata": {},
   "outputs": [
    {
     "data": {
      "text/plain": [
       "TripMiles                  0\n",
       "PickupCommunityArea        0\n",
       "DropoffCommunityArea       0\n",
       "Fare                       0\n",
       "PickupCentroidLatitude     0\n",
       "PickupCentroidLongitude    0\n",
       "DropoffCentroidLatitude    0\n",
       "DropoffCentroidLongitude   0\n",
       "dtype: float64"
      ]
     },
     "execution_count": 77,
     "metadata": {},
     "output_type": "execute_result"
    }
   ],
   "source": [
    "df[num_vars][df == 0].sum(axis=0)"
   ]
  },
  {
   "cell_type": "code",
   "execution_count": 83,
   "metadata": {},
   "outputs": [
    {
     "data": {
      "text/plain": [
       "TripID                0\n",
       "TripStartTimestamp    0\n",
       "TripEndTimestamp      0\n",
       "TripSeconds           0\n",
       "dtype: int64"
      ]
     },
     "execution_count": 83,
     "metadata": {},
     "output_type": "execute_result"
    }
   ],
   "source": [
    "df[cat_vars].isnull().sum()"
   ]
  },
  {
   "cell_type": "code",
   "execution_count": 18,
   "metadata": {},
   "outputs": [],
   "source": [
    "df = pd.read_csv('trips.csv' , usecols = ['Trip ID', 'Trip Start Timestamp', 'Trip End Timestamp', 'Trip Seconds', 'Trip Miles', 'Fare', 'Pickup Community Area', 'Dropoff Community Area', 'Pickup Centroid Latitude', 'Pickup Centroid Longitude', 'Dropoff Centroid Latitude', 'Dropoff Centroid Longitude'])\n",
    "df.columns = df.columns.str.replace(' ', '')\n",
    "#df.head()\n",
    "#df_locations_clean = df_locations.dropna()\n",
    "#df_locations_clean = df_locations_clean.astype({'PickupCommunityArea':'int32','DropoffCommunityArea':'int32'})\n",
    "#df_locations_clean.dtypes"
   ]
  },
  {
   "cell_type": "code",
   "execution_count": 39,
   "metadata": {},
   "outputs": [],
   "source": [
    "#def label_pickup (row):\n",
    "#   if row ['PickupCommunityArea'] == 44:\n",
    "#        return 'Test'\n",
    "#df.apply (lambda row: label_pickup(row), axis=1)\n",
    "#df=df.replace(['PickupCommunityArea'].replace([\"76\"],value='OHare')"
   ]
  },
  {
   "cell_type": "code",
   "execution_count": 29,
   "metadata": {},
   "outputs": [
    {
     "data": {
      "text/html": [
       "<div>\n",
       "<style scoped>\n",
       "    .dataframe tbody tr th:only-of-type {\n",
       "        vertical-align: middle;\n",
       "    }\n",
       "\n",
       "    .dataframe tbody tr th {\n",
       "        vertical-align: top;\n",
       "    }\n",
       "\n",
       "    .dataframe thead th {\n",
       "        text-align: right;\n",
       "    }\n",
       "</style>\n",
       "<table border=\"1\" class=\"dataframe\">\n",
       "  <thead>\n",
       "    <tr style=\"text-align: right;\">\n",
       "      <th></th>\n",
       "      <th>TripID</th>\n",
       "      <th>TripStartTimestamp</th>\n",
       "      <th>TripEndTimestamp</th>\n",
       "      <th>TripSeconds</th>\n",
       "      <th>TripMiles</th>\n",
       "      <th>PickupCommunityArea</th>\n",
       "      <th>DropoffCommunityArea</th>\n",
       "      <th>Fare</th>\n",
       "      <th>PickupCentroidLatitude</th>\n",
       "      <th>PickupCentroidLongitude</th>\n",
       "      <th>DropoffCentroidLatitude</th>\n",
       "      <th>DropoffCentroidLongitude</th>\n",
       "      <th>AvgFareMile</th>\n",
       "    </tr>\n",
       "  </thead>\n",
       "  <tbody>\n",
       "    <tr>\n",
       "      <th>0</th>\n",
       "      <td>001310147fb02373d31c3a61a9d431f5c1a3bbc5</td>\n",
       "      <td>09/01/2019 12:00:00 AM</td>\n",
       "      <td>09/01/2019 12:15:00 AM</td>\n",
       "      <td>935</td>\n",
       "      <td>3</td>\n",
       "      <td>4</td>\n",
       "      <td>7</td>\n",
       "      <td>18</td>\n",
       "      <td>42</td>\n",
       "      <td>-88</td>\n",
       "      <td>42</td>\n",
       "      <td>-88</td>\n",
       "      <td>5</td>\n",
       "    </tr>\n",
       "    <tr>\n",
       "      <th>1</th>\n",
       "      <td>00228798b148a8b410a3bd78e5c766558254ae21</td>\n",
       "      <td>09/01/2019 12:00:00 AM</td>\n",
       "      <td>09/01/2019 12:15:00 AM</td>\n",
       "      <td>1,128</td>\n",
       "      <td>5</td>\n",
       "      <td>44</td>\n",
       "      <td>46</td>\n",
       "      <td>8</td>\n",
       "      <td>42</td>\n",
       "      <td>-88</td>\n",
       "      <td>42</td>\n",
       "      <td>-88</td>\n",
       "      <td>2</td>\n",
       "    </tr>\n",
       "    <tr>\n",
       "      <th>2</th>\n",
       "      <td>002a8d7170d7d84508b5a83cfc3be9ba2bd61a68</td>\n",
       "      <td>09/01/2019 12:00:00 AM</td>\n",
       "      <td>09/01/2019 12:15:00 AM</td>\n",
       "      <td>995</td>\n",
       "      <td>6</td>\n",
       "      <td>8</td>\n",
       "      <td>6</td>\n",
       "      <td>22</td>\n",
       "      <td>42</td>\n",
       "      <td>-88</td>\n",
       "      <td>42</td>\n",
       "      <td>-88</td>\n",
       "      <td>4</td>\n",
       "    </tr>\n",
       "    <tr>\n",
       "      <th>3</th>\n",
       "      <td>003bd5a48b6b238a97c376d96652fdbc7f866daa</td>\n",
       "      <td>09/01/2019 12:00:00 AM</td>\n",
       "      <td>09/01/2019 12:15:00 AM</td>\n",
       "      <td>1,147</td>\n",
       "      <td>9</td>\n",
       "      <td>32</td>\n",
       "      <td>4</td>\n",
       "      <td>28</td>\n",
       "      <td>42</td>\n",
       "      <td>-88</td>\n",
       "      <td>42</td>\n",
       "      <td>-88</td>\n",
       "      <td>3</td>\n",
       "    </tr>\n",
       "    <tr>\n",
       "      <th>4</th>\n",
       "      <td>005f27b6e77816b97a357e79daa60b6b8c03ee68</td>\n",
       "      <td>09/01/2019 12:00:00 AM</td>\n",
       "      <td>09/01/2019 12:00:00 AM</td>\n",
       "      <td>569</td>\n",
       "      <td>4</td>\n",
       "      <td>nan</td>\n",
       "      <td>6</td>\n",
       "      <td>8</td>\n",
       "      <td>nan</td>\n",
       "      <td>nan</td>\n",
       "      <td>42</td>\n",
       "      <td>-88</td>\n",
       "      <td>2</td>\n",
       "    </tr>\n",
       "    <tr>\n",
       "      <th>...</th>\n",
       "      <td>...</td>\n",
       "      <td>...</td>\n",
       "      <td>...</td>\n",
       "      <td>...</td>\n",
       "      <td>...</td>\n",
       "      <td>...</td>\n",
       "      <td>...</td>\n",
       "      <td>...</td>\n",
       "      <td>...</td>\n",
       "      <td>...</td>\n",
       "      <td>...</td>\n",
       "      <td>...</td>\n",
       "      <td>...</td>\n",
       "    </tr>\n",
       "    <tr>\n",
       "      <th>8675388</th>\n",
       "      <td>ff251de1fe6659568fc9e01007f70837b2393a90</td>\n",
       "      <td>09/30/2019 12:00:00 AM</td>\n",
       "      <td>09/30/2019 12:00:00 AM</td>\n",
       "      <td>638</td>\n",
       "      <td>2</td>\n",
       "      <td>28</td>\n",
       "      <td>32</td>\n",
       "      <td>10</td>\n",
       "      <td>42</td>\n",
       "      <td>-88</td>\n",
       "      <td>42</td>\n",
       "      <td>-88</td>\n",
       "      <td>4</td>\n",
       "    </tr>\n",
       "    <tr>\n",
       "      <th>8675389</th>\n",
       "      <td>ff43e10ba452ca9cabb0af65a19b080e1bc1f844</td>\n",
       "      <td>09/30/2019 12:00:00 AM</td>\n",
       "      <td>09/30/2019 12:00:00 AM</td>\n",
       "      <td>538</td>\n",
       "      <td>2</td>\n",
       "      <td>24</td>\n",
       "      <td>8</td>\n",
       "      <td>8</td>\n",
       "      <td>42</td>\n",
       "      <td>-88</td>\n",
       "      <td>42</td>\n",
       "      <td>-88</td>\n",
       "      <td>3</td>\n",
       "    </tr>\n",
       "    <tr>\n",
       "      <th>8675390</th>\n",
       "      <td>ff63e52c15a16fe2289ba8723812ae18df5a41ad</td>\n",
       "      <td>09/30/2019 12:00:00 AM</td>\n",
       "      <td>09/30/2019 12:15:00 AM</td>\n",
       "      <td>1,140</td>\n",
       "      <td>13</td>\n",
       "      <td>nan</td>\n",
       "      <td>22</td>\n",
       "      <td>18</td>\n",
       "      <td>nan</td>\n",
       "      <td>nan</td>\n",
       "      <td>42</td>\n",
       "      <td>-88</td>\n",
       "      <td>1</td>\n",
       "    </tr>\n",
       "    <tr>\n",
       "      <th>8675391</th>\n",
       "      <td>ff9e26fb3399546e37baf2c39872db9418be4679</td>\n",
       "      <td>09/30/2019 12:00:00 AM</td>\n",
       "      <td>09/30/2019 12:15:00 AM</td>\n",
       "      <td>912</td>\n",
       "      <td>2</td>\n",
       "      <td>71</td>\n",
       "      <td>69</td>\n",
       "      <td>8</td>\n",
       "      <td>42</td>\n",
       "      <td>-88</td>\n",
       "      <td>42</td>\n",
       "      <td>-88</td>\n",
       "      <td>3</td>\n",
       "    </tr>\n",
       "    <tr>\n",
       "      <th>8675392</th>\n",
       "      <td>ffe0809bae2d94428d0b2de4fd1c0db49f187ab0</td>\n",
       "      <td>09/30/2019 12:00:00 AM</td>\n",
       "      <td>09/30/2019 12:15:00 AM</td>\n",
       "      <td>984</td>\n",
       "      <td>1</td>\n",
       "      <td>16</td>\n",
       "      <td>16</td>\n",
       "      <td>8</td>\n",
       "      <td>42</td>\n",
       "      <td>-88</td>\n",
       "      <td>42</td>\n",
       "      <td>-88</td>\n",
       "      <td>9</td>\n",
       "    </tr>\n",
       "  </tbody>\n",
       "</table>\n",
       "<p>8675393 rows × 13 columns</p>\n",
       "</div>"
      ],
      "text/plain": [
       "                                           TripID      TripStartTimestamp  \\\n",
       "0        001310147fb02373d31c3a61a9d431f5c1a3bbc5  09/01/2019 12:00:00 AM   \n",
       "1        00228798b148a8b410a3bd78e5c766558254ae21  09/01/2019 12:00:00 AM   \n",
       "2        002a8d7170d7d84508b5a83cfc3be9ba2bd61a68  09/01/2019 12:00:00 AM   \n",
       "3        003bd5a48b6b238a97c376d96652fdbc7f866daa  09/01/2019 12:00:00 AM   \n",
       "4        005f27b6e77816b97a357e79daa60b6b8c03ee68  09/01/2019 12:00:00 AM   \n",
       "...                                           ...                     ...   \n",
       "8675388  ff251de1fe6659568fc9e01007f70837b2393a90  09/30/2019 12:00:00 AM   \n",
       "8675389  ff43e10ba452ca9cabb0af65a19b080e1bc1f844  09/30/2019 12:00:00 AM   \n",
       "8675390  ff63e52c15a16fe2289ba8723812ae18df5a41ad  09/30/2019 12:00:00 AM   \n",
       "8675391  ff9e26fb3399546e37baf2c39872db9418be4679  09/30/2019 12:00:00 AM   \n",
       "8675392  ffe0809bae2d94428d0b2de4fd1c0db49f187ab0  09/30/2019 12:00:00 AM   \n",
       "\n",
       "               TripEndTimestamp TripSeconds  TripMiles  PickupCommunityArea  \\\n",
       "0        09/01/2019 12:15:00 AM         935          3                    4   \n",
       "1        09/01/2019 12:15:00 AM       1,128          5                   44   \n",
       "2        09/01/2019 12:15:00 AM         995          6                    8   \n",
       "3        09/01/2019 12:15:00 AM       1,147          9                   32   \n",
       "4        09/01/2019 12:00:00 AM         569          4                  nan   \n",
       "...                         ...         ...        ...                  ...   \n",
       "8675388  09/30/2019 12:00:00 AM         638          2                   28   \n",
       "8675389  09/30/2019 12:00:00 AM         538          2                   24   \n",
       "8675390  09/30/2019 12:15:00 AM       1,140         13                  nan   \n",
       "8675391  09/30/2019 12:15:00 AM         912          2                   71   \n",
       "8675392  09/30/2019 12:15:00 AM         984          1                   16   \n",
       "\n",
       "         DropoffCommunityArea  Fare  PickupCentroidLatitude  \\\n",
       "0                           7    18                      42   \n",
       "1                          46     8                      42   \n",
       "2                           6    22                      42   \n",
       "3                           4    28                      42   \n",
       "4                           6     8                     nan   \n",
       "...                       ...   ...                     ...   \n",
       "8675388                    32    10                      42   \n",
       "8675389                     8     8                      42   \n",
       "8675390                    22    18                     nan   \n",
       "8675391                    69     8                      42   \n",
       "8675392                    16     8                      42   \n",
       "\n",
       "         PickupCentroidLongitude  DropoffCentroidLatitude  \\\n",
       "0                            -88                       42   \n",
       "1                            -88                       42   \n",
       "2                            -88                       42   \n",
       "3                            -88                       42   \n",
       "4                            nan                       42   \n",
       "...                          ...                      ...   \n",
       "8675388                      -88                       42   \n",
       "8675389                      -88                       42   \n",
       "8675390                      nan                       42   \n",
       "8675391                      -88                       42   \n",
       "8675392                      -88                       42   \n",
       "\n",
       "         DropoffCentroidLongitude  AvgFareMile  \n",
       "0                             -88            5  \n",
       "1                             -88            2  \n",
       "2                             -88            4  \n",
       "3                             -88            3  \n",
       "4                             -88            2  \n",
       "...                           ...          ...  \n",
       "8675388                       -88            4  \n",
       "8675389                       -88            3  \n",
       "8675390                       -88            1  \n",
       "8675391                       -88            3  \n",
       "8675392                       -88            9  \n",
       "\n",
       "[8675393 rows x 13 columns]"
      ]
     },
     "execution_count": 29,
     "metadata": {},
     "output_type": "execute_result"
    }
   ],
   "source": [
    "#add calculated column to dataframe\n",
    "df.assign(AvgFareMile=lambda x: x.Fare / x.TripMiles)\n"
   ]
  },
  {
   "cell_type": "code",
   "execution_count": 20,
   "metadata": {},
   "outputs": [],
   "source": [
    "from csv import writer\n",
    "from csv import reader\n",
    "# Sample df.to_csv (r'C:\\Users\\Ron\\Desktop\\export_dataframe.csv', index = False, header=True)\n",
    "df.to_csv (r'C:\\Users\\my63valiant\\Documents\\Python Scripts\\Code\\trips_new_column.csv', index = False, header=True)"
   ]
  },
  {
   "cell_type": "code",
   "execution_count": 45,
   "metadata": {},
   "outputs": [
    {
     "data": {
      "text/plain": [
       "(0.0, 20.0)"
      ]
     },
     "execution_count": 45,
     "metadata": {},
     "output_type": "execute_result"
    },
    {
     "data": {
      "image/png": "[encoded data removed]",
      "text/plain": [
       "<Figure size 432x288 with 1 Axes>"
      ]
     },
     "metadata": {
      "needs_background": "light"
     },
     "output_type": "display_data"
    }
   ],
   "source": [
    "distance_box_and_whisker = df.boxplot(column='TripMiles')\n",
    "distance_box_and_whisker.set_ylim(0, 20)\n"
   ]
  },
  {
   "cell_type": "code",
   "execution_count": null,
   "metadata": {},
   "outputs": [],
   "source": [
    "areas = requests.get('https://data.cityofchicago.org/resource/igwz-8jzy.json').json()\n",
    "areas_df = pd.DataFrame(areas)[['community','area_num_1']]\n",
    "areas_df.community = areas_df.community.str.title()\n",
    "areas_dict = dict(zip(areas_df.area_num_1, areas_df.community))"
   ]
  },
  {
   "cell_type": "code",
   "execution_count": null,
   "metadata": {},
   "outputs": [],
   "source": [
    "df_locations_clean['pickup_area'] = df_locations_clean['pickup_community_area'].map(lambda x: areas_dict[str(x)])\n",
    "df_locations_clean['dropoff_area'] = df_locations_clean['dropoff_community_area'].map(lambda x: areas_dict[str(x)])\n",
    "df_locations_clean"
   ]
  },
  {
   "cell_type": "code",
   "execution_count": null,
   "metadata": {},
   "outputs": [],
   "source": [
    "#df[\"PickupAreaName\"] = df[\"PickupCommunityArea\"].apply(pickup)"
   ]
  },
  {
   "cell_type": "code",
   "execution_count": 17,
   "metadata": {},
   "outputs": [],
   "source": [
    "df['TripStartTimestamp'] = pd.to_datetime(df['TripStartTimestamp'])\n",
    "# calculate mask\n",
    "mask = df['TripStartTimestamp'].between('2019-09-29', '2019-10-01')\n",
    "# output masked dataframes\n",
    "df[mask].to_csv('trip_scaled_days6.csv', index=False)\n",
    "df[mask].to_csv('trip_scaled_days7.csv', index=False)"
   ]
  },
  {
   "cell_type": "code",
   "execution_count": 40,
   "metadata": {},
   "outputs": [],
   "source": []
  },
  {
   "cell_type": "code",
   "execution_count": null,
   "metadata": {},
   "outputs": [],
   "source": []
  },
  {
   "cell_type": "code",
   "execution_count": null,
   "metadata": {},
   "outputs": [],
   "source": []
  },
  {
   "cell_type": "code",
   "execution_count": null,
   "metadata": {},
   "outputs": [],
   "source": []
  }
 ],
 "metadata": {
  "kernelspec": {
   "display_name": "Python 3",
   "language": "python",
   "name": "python3"
  },
  "language_info": {
   "codemirror_mode": {
    "name": "ipython",
    "version": 3
   },
   "file_extension": ".py",
   "mimetype": "text/x-python",
   "name": "python",
   "nbconvert_exporter": "python",
   "pygments_lexer": "ipython3",
   "version": "3.8.5"
  }
 },
 "nbformat": 4,
 "nbformat_minor": 4
}
